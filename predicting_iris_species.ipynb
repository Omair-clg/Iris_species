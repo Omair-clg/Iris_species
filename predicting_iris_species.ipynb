{
 "cells": [
  {
   "cell_type": "code",
   "execution_count": 1,
   "id": "c7eaf385-c81c-4776-a4ec-2c83fbdbebb3",
   "metadata": {},
   "outputs": [
    {
     "name": "stdin",
     "output_type": "stream",
     "text": [
      "Sepal Length in cm:  1\n",
      "Sepal Width in cm:  2\n",
      "Petal Length in cm:  3\n",
      "Petal Width in cm:  4\n"
     ]
    },
    {
     "name": "stdout",
     "output_type": "stream",
     "text": [
      "veriscolor\n"
     ]
    }
   ],
   "source": [
    "import joblib\n",
    "import pandas as pd\n",
    "model = joblib.load('Iris_DecisionTreeModel.pkl')\n",
    "val1 = float(input(\"Sepal Length in cm: \"))\n",
    "val2 = float(input(\"Sepal Width in cm: \"))\n",
    "val3 = float(input(\"Petal Length in cm: \"))\n",
    "val4 = float(input(\"Petal Width in cm: \"))\n",
    "\n",
    "sample_df = pd.DataFrame([[val1, val2, val3, val4]],columns=['sepal length (cm)', 'sepal width (cm)', 'petal length (cm)', 'petal width (cm)'])\n",
    "\n",
    "\n",
    "y_pred = model.predict(sample_df)\n",
    "\n",
    "\n",
    "iris_target = ['setosa' , 'veriscolor' , 'virginica'] \n",
    "print(iris_target[y_pred[0]])"
   ]
  },
  {
   "cell_type": "code",
   "execution_count": null,
   "id": "5b1cb9f6-66d8-4185-97ea-0b05c30d1ef0",
   "metadata": {},
   "outputs": [],
   "source": []
  }
 ],
 "metadata": {
  "kernelspec": {
   "display_name": "Python 3 (ipykernel)",
   "language": "python",
   "name": "python3"
  },
  "language_info": {
   "codemirror_mode": {
    "name": "ipython",
    "version": 3
   },
   "file_extension": ".py",
   "mimetype": "text/x-python",
   "name": "python",
   "nbconvert_exporter": "python",
   "pygments_lexer": "ipython3",
   "version": "3.8.10"
  }
 },
 "nbformat": 4,
 "nbformat_minor": 5
}
